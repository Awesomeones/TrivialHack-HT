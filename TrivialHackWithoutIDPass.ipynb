{
 "cells": [
  {
   "cell_type": "markdown",
   "metadata": {},
   "source": [
    "# Trivial Hack "
   ]
  },
  {
   "cell_type": "code",
   "execution_count": 2,
   "metadata": {},
   "outputs": [],
   "source": [
    "import time \n",
    "from selenium import webdriver\n",
    "from selenium.webdriver.common.by import By\n",
    "from selenium.webdriver.support import expected_conditions as EC\n",
    "from selenium.webdriver.support.ui import WebDriverWait\n",
    "from selenium.webdriver.common.action_chains import ActionChains\n",
    "from selenium.webdriver.common.keys import Keys\n",
    "from selenium.webdriver.support.ui import Select\n",
    "from selenium.common.exceptions import NoSuchElementException\n",
    "from datetime import date,time,datetime,timedelta"
   ]
  },
  {
   "cell_type": "code",
   "execution_count": 3,
   "metadata": {},
   "outputs": [
    {
     "name": "stdout",
     "output_type": "stream",
     "text": [
      "2019-09-30 14:55:09.551046\n"
     ]
    }
   ],
   "source": [
    "Today = date.today()\n",
    "InitialTime = (datetime.now()-timedelta(hours=5, minutes=30)).time()\n",
    "UTCthreshold = datetime.time(datetime(1999,4,19,19,30))\n",
    "if(InitialTime > UTCthreshold):\n",
    "    Today -= timedelta(days=1)\n",
    "#Today -= timedelta(days=1)\n",
    "print(Today,InitialTime)\n",
    "#Today = Today.strftime(\"%Y-%m-%d\")\n",
    "#TimeRightNow = TimeRightNow.strftime(\"%H:%M\")"
   ]
  },
  {
   "cell_type": "markdown",
   "metadata": {},
   "source": [
    "### Run below cell before new post comes up on page above cell is useless but I don't want to delete it"
   ]
  },
  {
   "cell_type": "markdown",
   "metadata": {},
   "source": [
    "#### Fill in your own username and password"
   ]
  },
  {
   "cell_type": "code",
   "execution_count": 7,
   "metadata": {},
   "outputs": [
    {
     "name": "stdout",
     "output_type": "stream",
     "text": [
      "Waiting for Update\n",
      "0:00:04.709248\n"
     ]
    }
   ],
   "source": [
    "driver = webdriver.Chrome()\n",
    "actions = ActionChains(driver)\n",
    "\n",
    "driver.get('https://www.instagram.com/accounts/login/?source=auth_switcher');\n",
    "#id\n",
    "element = WebDriverWait(driver, 10).until(EC.presence_of_element_located((By.CSS_SELECTOR, \"input[name='username']\")))\n",
    "element.click()\n",
    "driver.find_element_by_css_selector(\"input[name='username']\").send_keys(\"UserNameHere\");\n",
    "#pass\n",
    "element = WebDriverWait(driver, 10).until(EC.presence_of_element_located((By.CSS_SELECTOR, \"input[name='password']\")))\n",
    "element.click()\n",
    "driver.find_element_by_css_selector(\"input[name='password']\").send_keys(\"EnterPasswordHere\");\n",
    "#login button\n",
    "driver.find_element_by_css_selector(\"span#react-root div:nth-child(4)\").click()\n",
    "#goto that page\n",
    "driver.execute_script(\"window.open('');\")\n",
    "driver.switch_to.window(driver.window_handles[1])\n",
    "driver.get('https://www.instagram.com/hapiens_tribe/') #name of page\n",
    "\n",
    "topPost = driver.find_element_by_css_selector(\"span#react-root article > div:nth-child(1) > div > div:nth-child(1) > div:nth-child(1) > a\")\n",
    "linkToPostCurrent = topPost.get_attribute(\"href\")\n",
    "linkToPostPrev = linkToPostCurrent\n",
    "\n",
    "while(linkToPostCurrent == linkToPostPrev):\n",
    "    topPost = driver.find_element_by_css_selector(\"span#react-root article > div:nth-child(1) > div > div:nth-child(1) > div:nth-child(1) > a\")\n",
    "    postedOn = datetime.now()\n",
    "    linkToPostCurrent = topPost.get_attribute(\"href\")\n",
    "    if linkToPostCurrent != linkToPostPrev:\n",
    "        driver.get(linkToPostCurrent)\n",
    "        element = driver.find_element_by_class_name(\"Ypffh\")\n",
    "        element.click()\n",
    "        driver.find_element_by_class_name(\"Ypffh\").send_keys(\"A\") #Change comment text here\n",
    "        driver.find_element_by_css_selector(\"form > button[type='submit']\").click()\n",
    "        print(datetime.now()-postedOn)\n",
    "    else:\n",
    "        print(\"Waiting for Update\")\n",
    "    driver.refresh()\n",
    "driver.quit()"
   ]
  },
  {
   "cell_type": "code",
   "execution_count": null,
   "metadata": {},
   "outputs": [],
   "source": []
  },
  {
   "cell_type": "code",
   "execution_count": null,
   "metadata": {},
   "outputs": [],
   "source": []
  },
  {
   "cell_type": "code",
   "execution_count": null,
   "metadata": {},
   "outputs": [],
   "source": []
  }
 ],
 "metadata": {
  "kernelspec": {
   "display_name": "Python 3",
   "language": "python",
   "name": "python3"
  },
  "language_info": {
   "codemirror_mode": {
    "name": "ipython",
    "version": 3
   },
   "file_extension": ".py",
   "mimetype": "text/x-python",
   "name": "python",
   "nbconvert_exporter": "python",
   "pygments_lexer": "ipython3",
   "version": "3.7.4"
  }
 },
 "nbformat": 4,
 "nbformat_minor": 2
}
